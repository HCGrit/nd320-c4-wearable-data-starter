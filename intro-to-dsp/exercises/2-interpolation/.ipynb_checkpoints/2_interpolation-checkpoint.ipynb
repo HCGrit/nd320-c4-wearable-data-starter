{
 "cells": [
  {
   "cell_type": "markdown",
   "metadata": {},
   "source": [
    "# Exercise 2: Interpolation"
   ]
  },
  {
   "cell_type": "markdown",
   "metadata": {},
   "source": [
    "You want to use your (still hypothetical) R wave detection algorithm to output heart rate. You can easily compute heart rate by taking the difference between successive R wave peak times because the R wave corresponds to a heart beat. The heart rate is then just the reciprocal of the inter-beat-interval time. \n",
    "\n",
    "You find a dataset that has an ECG signal and a reference heart rate datastream. After running your algorithm on the dataset, you have a series of R wave peak times. The heart rates that you get from the inter-beat-interval times will be non-uniformly sequenced because the heart beats at non-uniform intervals. The reference heart rate is uniformly sampled, however. To compare these two datastreams you will need to interpolate your heart rate onto the reference stream first.\n",
    "\n",
    "The data you need is stored in the `npz` file as follows:  \n",
    " - `est_r_peaks` - the timestamps in seconds of the r peaks detected by your algorithm\n",
    " - `ref_ts` - the timestamps in seconds of the reference heart rate\n",
    " - `ref_hr` - the reference heart rate values in beats per minute\n",
    "\n",
    "You must first derive heart rate from your sequence of R peaks. Then interpolate your estimate heart rate stream to match up with the reference stream. Finally, compute the mean absolute error between the reference stream your estimate heart rate. The mean absolute error is the average absolute difference between each estimate heart rate and its reference value."
   ]
  },
  {
   "cell_type": "markdown",
   "metadata": {},
   "source": [
    "## Imports"
   ]
  },
  {
   "cell_type": "code",
   "execution_count": 4,
   "metadata": {},
   "outputs": [],
   "source": [
    "import numpy as np\n",
    "import matplotlib.pyplot as plt"
   ]
  },
  {
   "cell_type": "markdown",
   "metadata": {},
   "source": [
    "## Load Data"
   ]
  },
  {
   "cell_type": "code",
   "execution_count": 2,
   "metadata": {},
   "outputs": [],
   "source": [
    "npz = np.load(\"./exercise2.npz\")\n",
    "est_r_peaks = npz['est_r_peaks']\n",
    "ref_ts = npz['ref_ts']\n",
    "ref_hr = npz['ref_hr']"
   ]
  },
  {
   "cell_type": "code",
   "execution_count": 21,
   "metadata": {},
   "outputs": [
    {
     "data": {
      "text/plain": [
       "(148,\n",
       " array([  4.,   6.,   8.,  10.,  12.,  14.,  16.,  18.,  20.,  22.,  24.,\n",
       "         26.,  28.,  30.,  32.,  34.,  36.,  38.,  40.,  42.,  44.,  46.,\n",
       "         48.,  50.,  52.,  54.,  56.,  58.,  60.,  62.,  64.,  66.,  68.,\n",
       "         70.,  72.,  74.,  76.,  78.,  80.,  82.,  84.,  86.,  88.,  90.,\n",
       "         92.,  94.,  96.,  98., 100., 102., 104., 106., 108., 110., 112.,\n",
       "        114., 116., 118., 120., 122., 124., 126., 128., 130., 132., 134.,\n",
       "        136., 138., 140., 142., 144., 146., 148., 150., 152., 154., 156.,\n",
       "        158., 160., 162., 164., 166., 168., 170., 172., 174., 176., 178.,\n",
       "        180., 182., 184., 186., 188., 190., 192., 194., 196., 198., 200.,\n",
       "        202., 204., 206., 208., 210., 212., 214., 216., 218., 220., 222.,\n",
       "        224., 226., 228., 230., 232., 234., 236., 238., 240., 242., 244.,\n",
       "        246., 248., 250., 252., 254., 256., 258., 260., 262., 264., 266.,\n",
       "        268., 270., 272., 274., 276., 278., 280., 282., 284., 286., 288.,\n",
       "        290., 292., 294., 296., 298.]))"
      ]
     },
     "execution_count": 21,
     "metadata": {},
     "output_type": "execute_result"
    }
   ],
   "source": [
    "len(ref_ts), ref_ts"
   ]
  },
  {
   "cell_type": "markdown",
   "metadata": {},
   "source": [
    "## Estimate heart rate"
   ]
  },
  {
   "cell_type": "code",
   "execution_count": 37,
   "metadata": {},
   "outputs": [
    {
     "data": {
      "text/plain": [
       "(659,\n",
       " array([  4.496,   5.288,   6.04 ,   6.808,   7.592,   8.352,   9.104,\n",
       "          9.888,  10.672,  11.488,  12.36 ,  13.264,  14.12 ,  14.968,\n",
       "         15.776,  16.568,  17.368,  18.152,  18.96 ,  19.768,  20.608,\n",
       "         21.472,  22.28 ,  23.016,  23.736,  24.464,  25.208,  25.952,\n",
       "         26.656,  27.384,  28.144,  28.936,  29.856,  30.784,  31.696,\n",
       "         32.552,  33.424,  34.288,  35.12 ,  35.904,  36.688,  37.44 ,\n",
       "         38.144,  38.824,  39.528,  40.264,  41.008,  41.752,  42.472,\n",
       "         43.2  ,  43.92 ,  44.624,  45.32 ,  46.008,  46.664,  47.336,\n",
       "         47.984,  48.64 ,  49.296,  49.952,  50.592,  51.232,  51.872,\n",
       "         52.504,  53.12 ,  53.744,  54.36 ,  54.968,  55.576,  56.176,\n",
       "         56.776,  57.368,  57.968,  58.552,  59.136,  59.72 ,  60.296,\n",
       "         60.864,  61.44 ,  62.016,  62.6  ,  63.176,  63.752,  64.336,\n",
       "         64.92 ,  65.504,  66.088,  66.68 ,  67.256,  67.848,  68.424,\n",
       "         69.008,  69.584,  70.16 ,  70.736,  71.312,  71.88 ,  72.448,\n",
       "         73.016,  73.576,  74.128,  74.672,  75.224,  75.76 ,  76.296,\n",
       "         76.832,  77.36 ,  77.888,  78.424,  78.952,  79.496,  80.032,\n",
       "         80.576,  81.104,  81.64 ,  82.176,  82.704,  83.24 ,  83.768,\n",
       "         84.288,  84.816,  85.336,  85.864,  86.384,  86.904,  87.424,\n",
       "         87.944,  88.472,  88.992,  89.504,  90.032,  90.544,  91.064,\n",
       "         91.576,  92.088,  92.6  ,  93.112,  93.616,  94.12 ,  94.632,\n",
       "         95.128,  95.632,  96.128,  96.624,  97.12 ,  97.616,  98.104,\n",
       "         98.6  ,  99.088,  99.576, 100.056, 100.544, 101.016, 101.504,\n",
       "        101.976, 102.456, 102.928, 103.4  , 103.872, 104.336, 104.8  ,\n",
       "        105.264, 105.728, 106.184, 106.64 , 107.096, 107.544, 108.   ,\n",
       "        108.448, 108.888, 109.336, 109.784, 110.224, 110.664, 111.104,\n",
       "        111.544, 111.976, 112.408, 112.848, 113.28 , 113.712, 114.144,\n",
       "        114.568, 115.   , 115.432, 115.856, 116.28 , 116.712, 117.128,\n",
       "        117.552, 117.976, 118.4  , 118.816, 119.232, 119.656, 120.072,\n",
       "        120.496, 120.912, 121.336, 121.752, 122.168, 122.592, 123.008,\n",
       "        123.424, 123.84 , 124.264, 124.68 , 125.096, 125.52 , 125.936,\n",
       "        126.352, 126.768, 127.184, 127.608, 128.024, 128.44 , 128.856,\n",
       "        129.272, 129.688, 130.112, 130.52 , 130.936, 131.352, 131.768,\n",
       "        132.184, 132.592, 133.008, 133.424, 133.84 , 134.248, 134.656,\n",
       "        135.064, 135.48 , 135.888, 136.296, 136.704, 137.112, 137.52 ,\n",
       "        137.928, 138.328, 138.728, 139.136, 139.536, 139.936, 140.336,\n",
       "        140.736, 141.136, 141.528, 141.928, 142.328, 142.72 , 143.12 ,\n",
       "        143.512, 143.904, 144.296, 144.688, 145.08 , 145.472, 145.864,\n",
       "        146.248, 146.64 , 147.024, 147.416, 147.808, 148.192, 148.576,\n",
       "        148.96 , 149.352, 149.736, 150.512, 150.896, 151.28 , 151.664,\n",
       "        152.048, 152.432, 152.816, 153.2  , 153.584, 154.36 , 155.136,\n",
       "        155.52 , 155.904, 156.288, 156.68 , 157.072, 157.456, 157.848,\n",
       "        158.232, 158.616, 159.008, 159.392, 159.784, 160.168, 160.56 ,\n",
       "        160.952, 161.328, 161.72 , 162.104, 162.496, 162.88 , 163.272,\n",
       "        163.656, 164.04 , 164.432, 164.808, 165.2  , 165.584, 165.968,\n",
       "        166.736, 167.128, 167.512, 167.896, 168.288, 168.672, 169.064,\n",
       "        169.448, 169.84 , 170.224, 170.616, 171.008, 171.776, 172.168,\n",
       "        172.552, 172.944, 173.336, 173.728, 174.12 , 174.512, 174.896,\n",
       "        175.288, 175.68 , 176.072, 176.464, 176.856, 177.248, 177.64 ,\n",
       "        178.032, 178.424, 178.816, 179.216, 179.608, 180.   , 180.4  ,\n",
       "        180.792, 181.192, 181.584, 181.976, 182.368, 182.768, 183.168,\n",
       "        183.56 , 183.952, 184.352, 184.752, 185.144, 185.544, 185.944,\n",
       "        186.336, 186.736, 187.128, 187.52 , 187.912, 188.304, 188.704,\n",
       "        189.096, 189.488, 189.88 , 190.272, 190.672, 191.064, 191.456,\n",
       "        191.856, 192.248, 192.64 , 193.04 , 193.432, 193.824, 194.216,\n",
       "        194.616, 195.016, 195.408, 195.808, 196.2  , 196.6  , 196.992,\n",
       "        197.384, 197.784, 198.176, 198.568, 198.968, 199.36 , 199.76 ,\n",
       "        200.16 , 200.552, 200.952, 201.344, 201.736, 202.136, 202.528,\n",
       "        202.92 , 203.312, 203.712, 204.104, 204.496, 204.896, 205.288,\n",
       "        205.688, 206.08 , 206.48 , 206.88 , 207.28 , 207.672, 208.072,\n",
       "        208.472, 208.872, 209.264, 209.664, 210.056, 210.656, 210.856,\n",
       "        211.256, 211.648, 212.048, 212.44 , 212.84 , 213.232, 213.624,\n",
       "        214.024, 214.424, 214.816, 215.216, 215.616, 216.016, 216.424,\n",
       "        216.824, 217.232, 217.632, 218.032, 218.432, 218.832, 219.232,\n",
       "        219.632, 220.04 , 220.44 , 220.84 , 221.24 , 221.64 , 222.04 ,\n",
       "        222.448, 222.848, 223.248, 223.648, 224.048, 224.456, 224.856,\n",
       "        225.256, 225.656, 226.056, 226.456, 226.848, 227.248, 227.648,\n",
       "        228.048, 228.44 , 228.832, 229.232, 229.624, 230.016, 230.408,\n",
       "        230.8  , 231.192, 231.584, 231.968, 232.36 , 232.752, 233.136,\n",
       "        233.528, 233.912, 234.68 , 235.064, 235.448, 235.84 , 236.216,\n",
       "        236.608, 236.984, 237.368, 237.744, 238.12 , 238.504, 238.88 ,\n",
       "        239.264, 239.648, 240.024, 240.4  , 240.776, 241.152, 241.528,\n",
       "        241.904, 242.28 , 242.648, 243.032, 243.776, 244.144, 244.52 ,\n",
       "        244.888, 245.264, 245.824, 246.008, 246.384, 246.76 , 247.128,\n",
       "        247.496, 247.864, 248.24 , 248.608, 248.976, 249.344, 249.712,\n",
       "        250.088, 250.456, 251.2  , 251.568, 251.928, 252.296, 252.664,\n",
       "        253.032, 253.4  , 253.768, 254.136, 254.504, 254.872, 255.248,\n",
       "        255.616, 255.976, 256.352, 256.712, 257.088, 257.456, 258.008,\n",
       "        258.192, 258.56 , 258.928, 259.296, 259.664, 260.024, 260.4  ,\n",
       "        260.76 , 261.128, 261.496, 261.864, 262.232, 262.6  , 262.968,\n",
       "        263.336, 263.704, 264.064, 264.432, 264.8  , 265.16 , 265.528,\n",
       "        265.896, 266.256, 266.624, 266.992, 267.352, 267.712, 268.08 ,\n",
       "        268.44 , 268.8  , 269.16 , 269.52 , 269.888, 270.248, 270.616,\n",
       "        270.976, 271.52 , 271.704, 272.064, 272.6  , 272.784, 273.144,\n",
       "        273.504, 273.864, 274.224, 274.592, 274.952, 275.312, 275.68 ,\n",
       "        276.04 , 276.408, 276.768, 277.128, 277.496, 277.856, 278.224,\n",
       "        278.592, 278.96 , 279.32 , 279.688, 280.048, 280.416, 280.784,\n",
       "        281.152, 281.52 , 281.88 , 282.248, 282.616, 282.984, 283.352,\n",
       "        283.72 , 284.088, 284.456, 284.832, 285.2  , 285.576, 286.12 ,\n",
       "        286.496, 286.688, 287.44 , 287.824, 288.2  , 288.576, 288.952,\n",
       "        289.328, 289.704, 290.088, 290.472, 290.848, 291.232, 291.616,\n",
       "        292.   , 292.384, 292.768, 293.16 , 293.544, 293.928, 294.312,\n",
       "        294.704, 295.096, 295.48 , 295.864, 296.64 , 297.024, 297.416,\n",
       "        297.792, 298.184, 298.568, 298.96 , 299.344, 299.736, 300.128,\n",
       "        300.52 , 300.904, 301.296, 301.696, 302.088, 302.488, 302.88 ,\n",
       "        303.28 ]))"
      ]
     },
     "execution_count": 37,
     "metadata": {},
     "output_type": "execute_result"
    }
   ],
   "source": [
    "est_ts = est_r_peaks[1:] # omitting one datapoint because est_ts and est_hr need to be of the same size\n",
    "est_hr = 1/np.diff(est_r_peaks) * 60\n",
    "len(est_ts), est_ts"
   ]
  },
  {
   "cell_type": "markdown",
   "metadata": {},
   "source": [
    "## Interpolate\n",
    "Interpolate the heart rate estimates to align with the reference."
   ]
  },
  {
   "cell_type": "code",
   "execution_count": 38,
   "metadata": {},
   "outputs": [],
   "source": [
    "## Your Code Goes Here\n",
    "interp_est_hr = np.interp(ref_ts, est_ts, est_hr)"
   ]
  },
  {
   "cell_type": "code",
   "execution_count": 39,
   "metadata": {},
   "outputs": [
    {
     "data": {
      "application/vnd.jupyter.widget-view+json": {
       "model_id": "8f3c31ba3878433d88c7883f3b4f5551",
       "version_major": 2,
       "version_minor": 0
      },
      "text/plain": [
       "Canvas(toolbar=Toolbar(toolitems=[('Home', 'Reset original view', 'home', 'home'), ('Back', 'Back to previous …"
      ]
     },
     "metadata": {},
     "output_type": "display_data"
    },
    {
     "data": {
      "text/plain": [
       "<matplotlib.legend.Legend at 0x2c88e4b1048>"
      ]
     },
     "execution_count": 39,
     "metadata": {},
     "output_type": "execute_result"
    }
   ],
   "source": [
    "%matplotlib widget\n",
    "plt.plot(ref_ts, ref_hr, '.', ms=2, label='ref_heart_rate')\n",
    "plt.plot(ref_ts, interp_est_hr, '.', ms=2, label='interp_heart_rate')\n",
    "plt.legend(loc='upper right')"
   ]
  },
  {
   "cell_type": "markdown",
   "metadata": {},
   "source": [
    "## Compute MAE"
   ]
  },
  {
   "cell_type": "code",
   "execution_count": 40,
   "metadata": {},
   "outputs": [
    {
     "data": {
      "text/plain": [
       "3.935457503943592"
      ]
     },
     "execution_count": 40,
     "metadata": {},
     "output_type": "execute_result"
    }
   ],
   "source": [
    "## Your Code Goes Here\n",
    "mae = np.mean(np.abs(interp_est_hr-ref_hr))\n",
    "mae"
   ]
  }
 ],
 "metadata": {
  "kernelspec": {
   "display_name": "Python 3",
   "language": "python",
   "name": "python3"
  },
  "language_info": {
   "codemirror_mode": {
    "name": "ipython",
    "version": 3
   },
   "file_extension": ".py",
   "mimetype": "text/x-python",
   "name": "python",
   "nbconvert_exporter": "python",
   "pygments_lexer": "ipython3",
   "version": "3.7.6"
  }
 },
 "nbformat": 4,
 "nbformat_minor": 4
}
